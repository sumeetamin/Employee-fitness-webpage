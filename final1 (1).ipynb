{
 "cells": [
  {
   "cell_type": "code",
   "execution_count": 1,
   "id": "06f66286",
   "metadata": {},
   "outputs": [],
   "source": [
    "import pandas as pd\n",
    "from sklearn.ensemble import RandomForestClassifier, StackingClassifier\n",
    "from sklearn.preprocessing import LabelEncoder\n",
    "from xgboost import XGBClassifier\n",
    "from catboost import CatBoostClassifier\n",
    "from lightgbm import LGBMClassifier\n",
    "from sklearn.metrics import accuracy_score\n",
    "from sklearn.decomposition import PCA"
   ]
  },
  {
   "cell_type": "code",
   "execution_count": 2,
   "id": "36cd3524",
   "metadata": {},
   "outputs": [],
   "source": [
    "\n",
    "# Load data\n",
    "data = pd.read_csv('Final_GP_Dataset5.csv')\n"
   ]
  },
  {
   "cell_type": "code",
   "execution_count": 3,
   "id": "0b59d21b",
   "metadata": {},
   "outputs": [],
   "source": [
    "data.drop(['age', 'Work environment', 'Gender','Department','employment status','Years of experience'], axis=1, inplace=True)\n"
   ]
  },
  {
   "cell_type": "code",
   "execution_count": 4,
   "id": "e14c21a2",
   "metadata": {},
   "outputs": [],
   "source": [
    "# Replace special JSON characters in column names\n",
    "data.columns = [col.replace('{', '').replace('}', '').replace('[', '').replace(']', '').replace(':', '').replace(',', '') for col in data.columns]\n"
   ]
  },
  {
   "cell_type": "code",
   "execution_count": 5,
   "id": "9671e0f8",
   "metadata": {},
   "outputs": [],
   "source": [
    "# Preprocess data\n",
    "label_encoders = {}\n",
    "for column in data.select_dtypes(include=['object']).columns:\n",
    "    le = LabelEncoder()\n",
    "    data[column] = le.fit_transform(data[column])\n",
    "    label_encoders[column] = le\n"
   ]
  },
  {
   "cell_type": "code",
   "execution_count": 6,
   "id": "108f3f20",
   "metadata": {},
   "outputs": [
    {
     "data": {
      "text/plain": [
       "Unnamed 0                                                            int64\n",
       "Do you often feel overwhelmed by your workload?                      int64\n",
       "Is your workload generally manageable?                               int64\n",
       "Do you frequently work beyond your scheduled hours?                  int64\n",
       "Do you feel supported by your manager and team?                      int64\n",
       "Are you satisfied with the resources and help available at work?     int64\n",
       "Do you often feel isolated when dealing with work challenges?        int64\n",
       "Do you frequently think about work in your personal time?            int64\n",
       "Do you feel you have a healthy work-life balance?                    int64\n",
       "Does your work often interfere with personal or family time?         int64\n",
       "Do you regularly feel physically or emotionally exhausted?           int64\n",
       "Do you experience symptoms like sleep issues anxiety or low mood?    int64\n",
       "Do you regularly engage in physical or leisure activities?           int64\n",
       "How do you feel?                                                     int32\n",
       "dtype: object"
      ]
     },
     "execution_count": 6,
     "metadata": {},
     "output_type": "execute_result"
    }
   ],
   "source": [
    "data.dtypes"
   ]
  },
  {
   "cell_type": "code",
   "execution_count": 7,
   "id": "35fa76c1",
   "metadata": {},
   "outputs": [],
   "source": [
    "# Define features and target variable\n",
    "X = data.drop('Do you regularly feel physically or emotionally exhausted?', axis=1)\n",
    "y = data['Do you regularly feel physically or emotionally exhausted?']"
   ]
  },
  {
   "cell_type": "code",
   "execution_count": 8,
   "id": "e1b79c35",
   "metadata": {},
   "outputs": [],
   "source": [
    "# Function to get user input for each feature\n",
    "def get_user_input():\n",
    "    user_input = {}\n",
    "    for col in X.columns:\n",
    "        user_input[col] = input(f\"Enter value for {col}: \")\n",
    "    return pd.DataFrame([user_input])"
   ]
  },
  {
   "cell_type": "code",
   "execution_count": 9,
   "id": "cf4018cc",
   "metadata": {},
   "outputs": [
    {
     "name": "stdout",
     "output_type": "stream",
     "text": [
      "Enter value for Unnamed 0: 1\n",
      "Enter value for Do you often feel overwhelmed by your workload?: 2\n",
      "Enter value for Is your workload generally manageable?: 2\n",
      "Enter value for Do you frequently work beyond your scheduled hours?: 2\n",
      "Enter value for Do you feel supported by your manager and team?: 2\n",
      "Enter value for Are you satisfied with the resources and help available at work?: 2\n",
      "Enter value for Do you often feel isolated when dealing with work challenges?: 2\n",
      "Enter value for Do you frequently think about work in your personal time?: 2\n",
      "Enter value for Do you feel you have a healthy work-life balance?: 2\n",
      "Enter value for Does your work often interfere with personal or family time?: 2\n",
      "Enter value for Do you experience symptoms like sleep issues anxiety or low mood?: 2\n",
      "Enter value for Do you regularly engage in physical or leisure activities?: 2\n",
      "Enter value for How do you feel?: 2\n"
     ]
    }
   ],
   "source": [
    "\n",
    "# Get user input\n",
    "user_data = get_user_input()"
   ]
  },
  {
   "cell_type": "code",
   "execution_count": 10,
   "id": "d0e18a45",
   "metadata": {},
   "outputs": [],
   "source": [
    "# Exclude non-numeric columns from PCA\n",
    "numeric_cols = X.select_dtypes(include=['number']).columns\n",
    "X_numeric = X[numeric_cols]\n",
    "user_data_numeric = user_data[numeric_cols]"
   ]
  },
  {
   "cell_type": "code",
   "execution_count": 11,
   "id": "3a4664db",
   "metadata": {},
   "outputs": [],
   "source": [
    "# PCA for dimensionality reduction\n",
    "pca = PCA(n_components=0.95)\n",
    "X_pca = pca.fit_transform(X)\n",
    "user_data_pca = pca.transform(user_data)"
   ]
  },
  {
   "cell_type": "code",
   "execution_count": 12,
   "id": "e5c207ac",
   "metadata": {},
   "outputs": [],
   "source": [
    "# Base models\n",
    "estimators = [\n",
    "    ('xgb', XGBClassifier(use_label_encoder=False, eval_metric='mlogloss')),\n",
    "    ('cat', CatBoostClassifier(verbose=0)),\n",
    "    ('lgb', LGBMClassifier())\n",
    "]"
   ]
  },
  {
   "cell_type": "code",
   "execution_count": 13,
   "id": "fb5a726b",
   "metadata": {},
   "outputs": [
    {
     "name": "stdout",
     "output_type": "stream",
     "text": [
      "[LightGBM] [Info] Auto-choosing row-wise multi-threading, the overhead of testing was 0.001240 seconds.\n",
      "You can set `force_row_wise=true` to remove the overhead.\n",
      "And if memory is not enough, you can set `force_col_wise=true`.\n",
      "[LightGBM] [Info] Total Bins 255\n",
      "[LightGBM] [Info] Number of data points in the train set: 2000, number of used features: 1\n",
      "[LightGBM] [Info] Start training from score -1.666008\n",
      "[LightGBM] [Info] Start training from score -1.634756\n",
      "[LightGBM] [Info] Start training from score -1.518684\n",
      "[LightGBM] [Info] Start training from score -1.647659\n",
      "[LightGBM] [Info] Start training from score -1.587187\n",
      "[LightGBM] [Info] Auto-choosing col-wise multi-threading, the overhead of testing was 0.000033 seconds.\n",
      "You can set `force_col_wise=true` to remove the overhead.\n",
      "[LightGBM] [Info] Total Bins 255\n",
      "[LightGBM] [Info] Number of data points in the train set: 1600, number of used features: 1\n",
      "[LightGBM] [Info] Start training from score -1.664026\n",
      "[LightGBM] [Info] Start training from score -1.634756\n",
      "[LightGBM] [Info] Start training from score -1.519826\n",
      "[LightGBM] [Info] Start training from score -1.647659\n",
      "[LightGBM] [Info] Start training from score -1.587799\n",
      "[LightGBM] [Info] Auto-choosing col-wise multi-threading, the overhead of testing was 0.000087 seconds.\n",
      "You can set `force_col_wise=true` to remove the overhead.\n",
      "[LightGBM] [Info] Total Bins 255\n",
      "[LightGBM] [Info] Number of data points in the train set: 1600, number of used features: 1\n",
      "[LightGBM] [Info] Start training from score -1.664026\n",
      "[LightGBM] [Info] Start training from score -1.634756\n",
      "[LightGBM] [Info] Start training from score -1.519826\n",
      "[LightGBM] [Info] Start training from score -1.647659\n",
      "[LightGBM] [Info] Start training from score -1.587799\n",
      "[LightGBM] [Info] Auto-choosing col-wise multi-threading, the overhead of testing was 0.000037 seconds.\n",
      "You can set `force_col_wise=true` to remove the overhead.\n",
      "[LightGBM] [Info] Total Bins 255\n",
      "[LightGBM] [Info] Number of data points in the train set: 1600, number of used features: 1\n",
      "[LightGBM] [Info] Start training from score -1.667332\n",
      "[LightGBM] [Info] Start training from score -1.634756\n",
      "[LightGBM] [Info] Start training from score -1.519826\n",
      "[LightGBM] [Info] Start training from score -1.647659\n",
      "[LightGBM] [Info] Start training from score -1.584745\n",
      "[LightGBM] [Info] Auto-choosing col-wise multi-threading, the overhead of testing was 0.000100 seconds.\n",
      "You can set `force_col_wise=true` to remove the overhead.\n",
      "[LightGBM] [Info] Total Bins 255\n",
      "[LightGBM] [Info] Number of data points in the train set: 1600, number of used features: 1\n",
      "[LightGBM] [Info] Start training from score -1.667332\n",
      "[LightGBM] [Info] Start training from score -1.634756\n",
      "[LightGBM] [Info] Start training from score -1.516973\n",
      "[LightGBM] [Info] Start training from score -1.647659\n",
      "[LightGBM] [Info] Start training from score -1.587799\n",
      "[LightGBM] [Info] Auto-choosing col-wise multi-threading, the overhead of testing was 0.000046 seconds.\n",
      "You can set `force_col_wise=true` to remove the overhead.\n",
      "[LightGBM] [Info] Total Bins 255\n",
      "[LightGBM] [Info] Number of data points in the train set: 1600, number of used features: 1\n",
      "[LightGBM] [Info] Start training from score -1.667332\n",
      "[LightGBM] [Info] Start training from score -1.634756\n",
      "[LightGBM] [Info] Start training from score -1.516973\n",
      "[LightGBM] [Info] Start training from score -1.647659\n",
      "[LightGBM] [Info] Start training from score -1.587799\n",
      "Predicted class: [1]\n"
     ]
    }
   ],
   "source": [
    "# Stacking model\n",
    "stack_model = StackingClassifier(estimators=estimators, final_estimator=RandomForestClassifier(random_state=42))\n",
    "stack_model.fit(X_pca, y)\n",
    "y_pred = stack_model.predict(user_data_pca)\n",
    "\n",
    "print(f'Predicted class: {y_pred}')"
   ]
  },
  {
   "cell_type": "code",
   "execution_count": null,
   "id": "a8c9822f",
   "metadata": {},
   "outputs": [],
   "source": []
  }
 ],
 "metadata": {
  "kernelspec": {
   "display_name": "Python 3 (ipykernel)",
   "language": "python",
   "name": "python3"
  },
  "language_info": {
   "codemirror_mode": {
    "name": "ipython",
    "version": 3
   },
   "file_extension": ".py",
   "mimetype": "text/x-python",
   "name": "python",
   "nbconvert_exporter": "python",
   "pygments_lexer": "ipython3",
   "version": "3.11.5"
  }
 },
 "nbformat": 4,
 "nbformat_minor": 5
}
